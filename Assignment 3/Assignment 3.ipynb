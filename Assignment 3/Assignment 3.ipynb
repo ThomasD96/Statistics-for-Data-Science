{
 "cells": [
  {
   "cell_type": "markdown",
   "metadata": {},
   "source": [
    "### Exercises from OpenIntro Statistics : 4th Edition Chapters 4, 5 , 6 and 7 (Problems 4.8, 4.22, 5.10, 5.30, 7.4)."
   ]
  },
  {
   "cell_type": "markdown",
   "metadata": {},
   "source": [
    "**4.8 CAPM. The Capital Asset Pricing Model (CAPM) is a financial model that assumes returns on a portfolio are normally distributed. Suppose a portfolio has an average annual return of 14.7% (i.e. an average gain of 14.7%) with a standard deviation of 33%. A return of 0% means the value of the portfolio doesn’t change, a negative return means that the portfolio loses money, and a positive return means that the portfolio gains money.**\n",
    "\n",
    "(a) What percent of years does this portfolio lose money, i.e. have a return less than 0%?\n",
    "\n",
    "(b) What is the cutoff for the highest 15% of annual returns with this portfolio?"
   ]
  },
  {
   "cell_type": "code",
   "execution_count": 1,
   "metadata": {},
   "outputs": [
    {
     "name": "stdout",
     "output_type": "stream",
     "text": [
      "The z-score for 0 corresonding to 0.147 mean 0.33 std deviation and p-value 0.3279956507031998 is: -0.445\n"
     ]
    }
   ],
   "source": [
    "import scipy.stats as st\n",
    "\n",
    "xcritical = 0\n",
    "mean = 0.147\n",
    "stdev = 0.33\n",
    "\n",
    "# p-value calculated using norm.cdf()\n",
    "p = st.norm.cdf(x=xcritical, loc=mean, scale=stdev)\n",
    "\n",
    "z_score = st.norm.ppf(p)\n",
    "print('The z-score for {} corresonding to {} mean {} std deviation and p-value {} is: {:.3f}'.format(xcritical,mean,stdev,p, z_score))"
   ]
  },
  {
   "cell_type": "markdown",
   "metadata": {},
   "source": [
    "**Ans:a)** So, in about 32.8% of years, this portfolio will have negative return or lose money.\n",
    "\n",
    "Here, we first calculate the cumulative probability 'p' of obtaining 'xcritical' value given 'mean' and 'stdev' using norm.cdf(). norm.cdf() calculates the percentage of area under a normal distribution curve from negative infinity till an 'x' value ('xritical' in this case). Then, we pass this probability to norm.ppf() to obtain the z-score corresponding to that 'x' value. norm.ppf() is percent point function which yields the (z)value corresponding to passed lower tail probability in a standard normal distributed curve."
   ]
  },
  {
   "cell_type": "code",
   "execution_count": 2,
   "metadata": {},
   "outputs": [
    {
     "data": {
      "text/plain": [
       "48.90230185329506"
      ]
     },
     "execution_count": 2,
     "metadata": {},
     "output_type": "execute_result"
    }
   ],
   "source": [
    "x = st.norm(loc=14.7, scale=33)\n",
    "x.ppf(0.85)"
   ]
  },
  {
   "cell_type": "markdown",
   "metadata": {},
   "source": [
    "**Ans:b)** So 15% of the returns will be 48.9% or higher."
   ]
  },
  {
   "cell_type": "markdown",
   "metadata": {},
   "source": [
    "**4.22 Arachnophobia. A 2005 Gallup Poll found that 7% of teenagers (ages 13 to 17) suffer from arachnophobia and are extremely afraid of spiders. At a summer camp there are 10 teenagers sleeping in each tent. Assume that these 10 teenagers are independent of each other.**\n",
    "\n",
    "(a)  Calculate the probability that at least one of them suffers from arachnophobia.\n",
    "\n",
    "(b)  Calculate the probability that exactly 2 of them suffer from arachnophobia.\n",
    "\n",
    "(c)  Calculate the probability that at most 1 of them suffers from arachnophobia.\n",
    "\n",
    "(d)  If the camp counselor wants to make sure no more than 1 teenager in each tent is afraid of spiders, does it seem reasonable for him to randomly assign teenagers to tents?"
   ]
  },
  {
   "cell_type": "markdown",
   "metadata": {},
   "source": [
    "The use of the binomial distribution is appropriate for calculating the probability in this problem as it fits all 4 criteria: fixed number of trials (10); the trials are independent (randomly selected); each trial is either a “success” (suffer from arachnophobia) or a “failure” (not suffer from arachnophobia); and the probability of a “success” (p= 0.07 ) is the same for all trials."
   ]
  },
  {
   "cell_type": "code",
   "execution_count": 3,
   "metadata": {},
   "outputs": [
    {
     "name": "stdout",
     "output_type": "stream",
     "text": [
      "The probability that at least one of them suffers from arachnophobia is: 51.602%\n"
     ]
    }
   ],
   "source": [
    "# a). P(X10 >= 1) = 1- P(X10 = 0)\n",
    "\n",
    "y = st.binom(n=10, p=0.07)\n",
    "p = 1 - y.cdf(0)\n",
    "print('The probability that at least one of them suffers from arachnophobia is: {:.3%}'.format(p))"
   ]
  },
  {
   "cell_type": "code",
   "execution_count": 4,
   "metadata": {},
   "outputs": [
    {
     "name": "stdout",
     "output_type": "stream",
     "text": [
      "The probability that exactly 2 of them suffer from arachnophobia is: 12.339%\n"
     ]
    }
   ],
   "source": [
    "# b). P(X10 = 2)\n",
    "q = st.binom(n=10, p=0.07).pmf(2) \n",
    "print('The probability that exactly 2 of them suffer from arachnophobia is: {:.3%}'.format(q))"
   ]
  },
  {
   "cell_type": "code",
   "execution_count": 5,
   "metadata": {},
   "outputs": [
    {
     "name": "stdout",
     "output_type": "stream",
     "text": [
      "The probability probability that at most 1 of them suffers from arachnophobia is: 84.827%\n"
     ]
    }
   ],
   "source": [
    "# c). P(X10 <=1) = P(X10 = 0) + P(X10=1)\n",
    "r= st.binom(n=10, p=0.07).pmf(0) + st.binom(n=10, p=0.07).pmf(1)\n",
    "print('The probability probability that at most 1 of them suffers from arachnophobia is: {:.3%}'.format(r))"
   ]
  },
  {
   "cell_type": "markdown",
   "metadata": {},
   "source": [
    "**Ans:d)** Yes, There is about an 85% chance that when 10 teenagers are assigned at random, no more than one of them will suffer from arachnophobia, so the odds are in his favor and he can randomly assign. He may want to be more cautious, however, if the number of students is very large (more than 300), because that increases the likelihood that some cabins will have more\n",
    "than one student with arachnophobia in them."
   ]
  },
  {
   "cell_type": "markdown",
   "metadata": {},
   "source": [
    "**5.10 Twitter users and news, Part II. A poll conducted in 2013 found that 52% of U.S. adult Twitter users get at least some news on Twitter, and the standard error for this estimate was 2.4%. Identify each of the following statements as true or false. Provide an explanation to justify each of your answers.**\n",
    "\n",
    "(a)  The data provide statistically significant evidence that more than half of U.S. adult Twitter users get some news through Twitter. Use a significance level of alpha = 0.01.\n",
    "\n",
    "(b)  Since the standard error is 2.4%, we can conclude that 97.6% of all U.S. adult Twitter users were included in the study.\n",
    "\n",
    "(c)  If we want to reduce the standard error of the estimate, we should collect less data.\n",
    "\n",
    "(d)  If we construct a 90% confidence interval for the percentage of U.S. adults Twitter users who get some news through Twitter, this confidence interval will be wider than a corresponding 99% confidence interval."
   ]
  },
  {
   "cell_type": "markdown",
   "metadata": {},
   "source": [
    "**Ans.** \n",
    "(a) **False**,\n",
    "99% confidence interval = Point estimate +- z*SE\n",
    "                        = 0.52 +- 2.58 * 0.024 = (0.45808,0.58192)\n",
    "\n",
    "At a significance level of α = 0.01, we are 99% confident that the proportion of Twitter users who get at least some news on Twitter is between 45.8% and 58.2%. Since the lower end of the interval is below 50%, the data does NOT provide statistically significant evidence that more than half of U.S. adult Twitter users get some news through Twitter.\n",
    "\n",
    "(b) **False**, The precentage of all US adult Twitter users included in the study is measured by sample size/population size. The standard error measures the accurary of a sample statistic given a certain confidence interval.\n",
    "\n",
    "(c) **False**, $ SE = \\sqrt{p(1-p)/n)} $\n",
    "Increasing n (i.e. collecting more data) would reduce standard error.\n",
    "\n",
    "(d) **False**, Using a 90% confidence interval means that the z* will be lower, resulting in a narrower confidence interval."
   ]
  },
  {
   "cell_type": "markdown",
   "metadata": {},
   "source": [
    "**5.30 True or false. Determine if the following statements are true or false, and explain your reasoning. If false, state how it could be corrected.**  \n",
    "\n",
    "(a) If a given value (for example, the null hypothesized value of a parameter) is within a 95% confidence interval, it will also be within a 99% confidence interval.\n",
    "\n",
    "(b) Decreasing the significance level (α) will increase the probability of making a Type 1 Error.\n",
    "\n",
    "(c) Suppose the null hypothesis is p = 0.5 and we fail to reject H0. Under this scenario, the true population proportion is 0.5.\n",
    "\n",
    "(d) With large sample sizes, even small differences between the null value and the observed point estimate, a difference often called the effect size, will be identified as statistically significant. "
   ]
  },
  {
   "cell_type": "markdown",
   "metadata": {},
   "source": [
    "**Ans:** a) **True**, as the 99% interval is an expansion of the 95%.\n",
    "\n",
    "b) **False**, it would decrease the probability of making a Type 1 Error.\n",
    "Correct statement: \"Decreasing the significance level (α) will decrease the probability of making a Type 1 Error\"\n",
    "\n",
    "c) **False**, If we fail to reject the null hypothesis, we typically do not accept the null hypothesis as true. Failing to find strong evidence for the alternative hypothesis is not equivalent to accepting the null hypothesis. \n",
    "Correct statement: \"Under this scenario, there is not enough evidence to reject H0 however this does not mean that H0 is true.\"\n",
    "\n",
    "d) **True**, the larger the sample the more precise the point estimate. "
   ]
  },
  {
   "cell_type": "markdown",
   "metadata": {},
   "source": [
    "**7.4 Find the p-value, Part II. An independent random sample is selected from an approximately normal population with an unknown standard deviation. Find the p-value for the given set of hypotheses and T test statistic. Also determine if the null hypothesis would be rejected at alpha = 0.01.**\n",
    "\n",
    "(a) HA :μ >0.5, n = 26, T =2.485\n",
    "\n",
    "(b) HA :μ < 3, n = 18, T = 0.5."
   ]
  },
  {
   "cell_type": "markdown",
   "metadata": {},
   "source": [
    "**Ans:a)** Degrees of Freedom = n-1 = 26-1 = 25"
   ]
  },
  {
   "cell_type": "code",
   "execution_count": 6,
   "metadata": {},
   "outputs": [
    {
     "data": {
      "text/plain": [
       "0.010002400548908942"
      ]
     },
     "execution_count": 6,
     "metadata": {},
     "output_type": "execute_result"
    }
   ],
   "source": [
    "p_value_a = st.t.sf(2.485, loc=0, df=25)\n",
    "p_value_a"
   ]
  },
  {
   "cell_type": "markdown",
   "metadata": {},
   "source": [
    "Assuming a one sided tail test, the p-value is exactly 0.01 which is equal to the critical value of 0.01. Since p-value is not greater than critical value we have to reject the null hypothesis."
   ]
  },
  {
   "cell_type": "markdown",
   "metadata": {},
   "source": [
    "**Ans:b)** Degrees of Freedom = n-1 = 18-1 = 17"
   ]
  },
  {
   "cell_type": "code",
   "execution_count": 7,
   "metadata": {},
   "outputs": [
    {
     "data": {
      "text/plain": [
       "0.31174260328285575"
      ]
     },
     "execution_count": 7,
     "metadata": {},
     "output_type": "execute_result"
    }
   ],
   "source": [
    "p_value_b = st.t.sf(0.5, loc=0, df=17)\n",
    "p_value_b"
   ]
  },
  {
   "cell_type": "markdown",
   "metadata": {},
   "source": [
    "Assuming a one sided tail test, the p-value is equal to 0.31 which is greater than the critical value of 0.01 therefore we DO NOT reject the null hypothesis."
   ]
  }
 ],
 "metadata": {
  "kernelspec": {
   "display_name": "Python 3",
   "language": "python",
   "name": "python3"
  },
  "language_info": {
   "codemirror_mode": {
    "name": "ipython",
    "version": 3
   },
   "file_extension": ".py",
   "mimetype": "text/x-python",
   "name": "python",
   "nbconvert_exporter": "python",
   "pygments_lexer": "ipython3",
   "version": "3.6.8"
  }
 },
 "nbformat": 4,
 "nbformat_minor": 2
}
