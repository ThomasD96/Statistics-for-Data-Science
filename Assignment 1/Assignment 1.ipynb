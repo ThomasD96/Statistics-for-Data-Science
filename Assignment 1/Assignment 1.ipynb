{
 "cells": [
  {
   "cell_type": "markdown",
   "metadata": {},
   "source": [
    "# Assignment 1\n",
    "\n",
    "Write the code to implement the data simulation demonstrated in the video [\"Statistics Without the Agonizing Pain\"](https://www.youtube.com/watch?v=5Dnw46eC-0o&feature=emb_title). Calculate the probability of obtaining the experiment outcome.\n",
    "\n",
    "To answer this question we need to find probability that experiment outcome (4.4 difference between means for number of mosquitos in beer subgroup and water subgroup) is just by chance.\n",
    "But to find probability we need many experiments (or trials), since probability is defined as ratio of number of plausible outcomes to the number of trials.\n",
    "\n",
    "We have to run many experiments with X volunteers who drink beer and Y volunteers who drink water, while we have only one experiment with 25 volunteers (beer) and 18 volunteers (water).\n",
    "This problem can be solved by simulation - we shuffle the dataset many times (say 10,000 iterations) and each time split the data sets into 2 subgroups (25 for beer and 18 for water). Next compute the mean for ech subgroup and the mean difference.\n",
    "This way we will simulate 10,000 experiments and we should have 10,000 values for the mean difference.\n",
    "\n",
    "The next step is to find probability of obtaining the experiment outcome (4.4):\n",
    "\n",
    "this can be computed as the number of times 4.4 appears in 10,000 simulated experiments divided by the total number of experiments (10,000);\n",
    "or find the number of simulated experiments with outcome 4.4 or greater and divide this by the total number of experiments (10,000) - this is proper way to define probability, it will be discussed later in the course."
   ]
  },
  {
   "cell_type": "code",
   "execution_count": 4,
   "metadata": {},
   "outputs": [],
   "source": [
    "# Importing libraries\n",
    "import numpy as np\n",
    "import pandas as pd\n",
    "import matplotlib.pyplot as plt\n",
    "import seaborn as sns"
   ]
  },
  {
   "cell_type": "code",
   "execution_count": 5,
   "metadata": {},
   "outputs": [
    {
     "data": {
      "text/html": [
       "<div>\n",
       "<style scoped>\n",
       "    .dataframe tbody tr th:only-of-type {\n",
       "        vertical-align: middle;\n",
       "    }\n",
       "\n",
       "    .dataframe tbody tr th {\n",
       "        vertical-align: top;\n",
       "    }\n",
       "\n",
       "    .dataframe thead th {\n",
       "        text-align: right;\n",
       "    }\n",
       "</style>\n",
       "<table border=\"1\" class=\"dataframe\">\n",
       "  <thead>\n",
       "    <tr style=\"text-align: right;\">\n",
       "      <th></th>\n",
       "      <th>Response</th>\n",
       "      <th>Treatment</th>\n",
       "    </tr>\n",
       "  </thead>\n",
       "  <tbody>\n",
       "    <tr>\n",
       "      <th>0</th>\n",
       "      <td>27</td>\n",
       "      <td>Beer</td>\n",
       "    </tr>\n",
       "    <tr>\n",
       "      <th>1</th>\n",
       "      <td>20</td>\n",
       "      <td>Beer</td>\n",
       "    </tr>\n",
       "    <tr>\n",
       "      <th>2</th>\n",
       "      <td>21</td>\n",
       "      <td>Beer</td>\n",
       "    </tr>\n",
       "    <tr>\n",
       "      <th>3</th>\n",
       "      <td>26</td>\n",
       "      <td>Beer</td>\n",
       "    </tr>\n",
       "    <tr>\n",
       "      <th>4</th>\n",
       "      <td>27</td>\n",
       "      <td>Beer</td>\n",
       "    </tr>\n",
       "  </tbody>\n",
       "</table>\n",
       "</div>"
      ],
      "text/plain": [
       "   Response Treatment\n",
       "0        27      Beer\n",
       "1        20      Beer\n",
       "2        21      Beer\n",
       "3        26      Beer\n",
       "4        27      Beer"
      ]
     },
     "execution_count": 5,
     "metadata": {},
     "output_type": "execute_result"
    }
   ],
   "source": [
    "# Read the dataset\n",
    "df = pd.read_csv(\"mosquitos_data.csv\")\n",
    "df.head()"
   ]
  },
  {
   "cell_type": "markdown",
   "metadata": {},
   "source": [
    "## Q.1.\tCreate side-by-side boxplots for the number of mosquitoes in each group (beer vs water)"
   ]
  },
  {
   "cell_type": "code",
   "execution_count": 6,
   "metadata": {},
   "outputs": [
    {
     "data": {
      "text/plain": [
       "<matplotlib.axes._subplots.AxesSubplot at 0x1dca48b5048>"
      ]
     },
     "execution_count": 6,
     "metadata": {},
     "output_type": "execute_result"
    },
    {
     "data": {
      "image/png": "[encoded data removed]",
      "text/plain": [
       "<Figure size 432x288 with 1 Axes>"
      ]
     },
     "metadata": {
      "needs_background": "light"
     },
     "output_type": "display_data"
    }
   ],
   "source": [
    "# Boxplot using matplotlib\n",
    "df['mos_beer'] = df[df['Treatment'] == 'Beer']['Response']\n",
    "df['mos_water'] = df[df['Treatment'] == 'Water']['Response']\n",
    "df_1 = pd.DataFrame(data= df, columns = ['mos_beer','mos_water'])\n",
    "df_1.boxplot(notch = True)"
   ]
  },
  {
   "cell_type": "code",
   "execution_count": 7,
   "metadata": {},
   "outputs": [
    {
     "data": {
      "text/plain": [
       "<matplotlib.axes._subplots.AxesSubplot at 0x1dca4bc2ba8>"
      ]
     },
     "execution_count": 7,
     "metadata": {},
     "output_type": "execute_result"
    },
    {
     "data": {
      "image/png": "[encoded data removed]",
      "text/plain": [
       "<Figure size 432x288 with 1 Axes>"
      ]
     },
     "metadata": {
      "needs_background": "light"
     },
     "output_type": "display_data"
    }
   ],
   "source": [
    "# Boxplot using seaborn\n",
    "sns.boxplot(x= 'Treatment', y= 'Response', data= df, notch=True)"
   ]
  },
  {
   "cell_type": "markdown",
   "metadata": {},
   "source": [
    "## Q.2 What does the graph reveal about the data for both groups? Is there an association between beer consumption and attractiveness to mosquitoes?\n",
    "\n",
    "Ans: Box plots (also known as box and whisker plots) are a type of chart often used in explanatory data analysis to visually show the distribution of numerical data and skewness through displaying the data quartiles (or percentiles) and averages. They have the advantage of taking up less space in comparison to a histogram or density plot, which is useful when comparing distributions between many groups or datasets.\n",
    "\n",
    "<img src=\"NotchedBoxPlot.jpg\" style=\"width:=500px;height=500px\"/>\n",
    "\n",
    "A boxplot can tell:\n",
    "1. The outliers and their values\n",
    "2. Identify if the data is symmetrical\n",
    "3. Determine how tightly the data is grouped\n",
    "4. See if the data is skewed\n",
    "\n",
    "**There is absence of outliers in the given dataset**\n",
    "\n",
    "**For the beer drinking group, median is in the middle of the box, and the whiskers are about the same on both sides of the box, so the distribution is nearly symmetric. On the other hand, median for water drinking group is closer to the top of the box , and the whisker is shorter on the upper end of the box, therefore distribution is negatively skewed (skewed left).**\n",
    "\n",
    "**The box for the beer group is longer which signifies the data is more dispersed in that case as compared to water group.**\n",
    "\n",
    "**We can also compare the range and distribution of the response for beer and water. We observe that there is a greater variability for beer response.\n",
    "Also, since the notches in the boxplots do not overlap, we can conclude with 95% confidence, that the true medians do differ.**\n",
    "\n",
    "**From graph, we can see that the mean(23.6) and median(24) values of beer drinking group is greater than the water drinking group(mean=19.222222, median= 20) which indicates there is association between beer consumption and attractiveness to mosquitoes.**"
   ]
  },
  {
   "cell_type": "code",
   "execution_count": 8,
   "metadata": {},
   "outputs": [
    {
     "data": {
      "text/plain": [
       "4.37777777777778"
      ]
     },
     "execution_count": 8,
     "metadata": {},
     "output_type": "execute_result"
    }
   ],
   "source": [
    "mean = np.mean(df['mos_beer']) - np.mean(df['mos_water'])\n",
    "mean"
   ]
  },
  {
   "cell_type": "code",
   "execution_count": 9,
   "metadata": {},
   "outputs": [
    {
     "data": {
      "text/plain": [
       "count    25.000000\n",
       "mean     23.600000\n",
       "std       4.133199\n",
       "min      17.000000\n",
       "25%      20.000000\n",
       "50%      24.000000\n",
       "75%      27.000000\n",
       "max      31.000000\n",
       "Name: mos_beer, dtype: float64"
      ]
     },
     "execution_count": 9,
     "metadata": {},
     "output_type": "execute_result"
    }
   ],
   "source": [
    "df['mos_beer'].describe()"
   ]
  },
  {
   "cell_type": "code",
   "execution_count": 10,
   "metadata": {},
   "outputs": [
    {
     "data": {
      "text/plain": [
       "count    18.000000\n",
       "mean     19.222222\n",
       "std       3.671120\n",
       "min      12.000000\n",
       "25%      16.500000\n",
       "50%      20.000000\n",
       "75%      22.000000\n",
       "max      24.000000\n",
       "Name: mos_water, dtype: float64"
      ]
     },
     "execution_count": 10,
     "metadata": {},
     "output_type": "execute_result"
    }
   ],
   "source": [
    "df['mos_water'].describe()"
   ]
  },
  {
   "cell_type": "markdown",
   "metadata": {},
   "source": [
    "## Q.3 Calculate basic statistics measures for each group: the mean, median, standard deviation and explain the numbers.\n",
    " \n",
    " Ans: From the above two cells we can check the basic statistics for both groups:\n",
    " \n",
    " |Statistics |Beer      | Water   |\n",
    " |-----------|--------- |-------  |\n",
    " | mean      |23.600000 |19.222222|\n",
    " | std       | 4.133199 |3.671120 |\n",
    " | median    |24.000000 |20.000000|\n",
    " \n",
    "The mean and the median are both measures of central tendency; they give an indication of the average value of a distribution of figures. The sample mean is the average and is computed as the sum of all the observed outcomes  from the sample divided by the total number of events. One problem with using the mean, is that it often does not depict the typical outcome.  If there is one outcome that is very far from the rest of the data, then the mean will be strongly affected by this outcome.  Such an outcome is called an outlier.  An alternative measure is the median.  The median is the middle score.  If we have an even number of events we take the average of the two middles.  The median is better for describing the typical value.\n",
    "\n",
    "**As we can see there is not much difference between mean and median values it indicates the absence of outliers in the given dataset.**\n",
    "\n",
    "The mean and median do a nice job in telling where the center of the data set is, but often we are interested in more.  For example, a pharmaceutical engineer develops a new drug that regulates iron in the blood.  Suppose she finds out that the average sugar content after taking the medication is the optimal level.  This does not mean that the drug is effective.  There is a possibility that half of the patients have dangerously low sugar content while the other half have dangerously high content.  Instead of the drug being an effective regulator, it is a deadly poison.  What the pharmacist needs is a measure of how far the data is spread apart.  This is what standard deviation and Interquartile range(IQR) do."
   ]
  },
  {
   "cell_type": "markdown",
   "metadata": {},
   "source": [
    "## 4.\tWrite the code to implement the data simulation demonstrated in the above mentioned video. Calculate the probability of obtaining the experiment outcome."
   ]
  },
  {
   "cell_type": "code",
   "execution_count": 11,
   "metadata": {},
   "outputs": [
    {
     "name": "stdout",
     "output_type": "stream",
     "text": [
      "1 4.760000000000002\n",
      "2 4.664444444444442\n",
      "3 5.428888888888888\n",
      "4 4.568888888888889\n",
      "5 4.473333333333333\n",
      "6 4.664444444444442\n",
      "7 4.760000000000002\n",
      "8 4.568888888888889\n",
      "9 5.046666666666667\n",
      "10 5.333333333333332\n",
      "11 4.568888888888889\n",
      "12 4.473333333333333\n",
      "13 4.760000000000002\n",
      "14 4.473333333333333\n",
      "15 4.568888888888889\n",
      "16 4.855555555555558\n",
      "17 4.568888888888889\n",
      "18 4.951111111111111\n",
      "19 4.568888888888889\n",
      "20 4.568888888888889\n",
      "21 4.760000000000002\n",
      "22 4.568888888888889\n",
      "23 4.855555555555558\n",
      "24 4.473333333333333\n",
      "25 4.568888888888889\n",
      "26 4.473333333333333\n"
     ]
    },
    {
     "name": "stderr",
     "output_type": "stream",
     "text": [
      "C:\\Users\\Manjeet Kaur\\AppData\\Local\\conda\\conda\\envs\\deep-learning\\lib\\site-packages\\matplotlib\\axes\\_axes.py:6521: MatplotlibDeprecationWarning: \n",
      "The 'normed' kwarg was deprecated in Matplotlib 2.1 and will be removed in 3.1. Use 'density' instead.\n",
      "  alternative=\"'density'\", removal=\"3.1\")\n"
     ]
    },
    {
     "data": {
      "image/png": "[encoded data removed]",
      "text/plain": [
       "<Figure size 432x288 with 1 Axes>"
      ]
     },
     "metadata": {
      "needs_background": "light"
     },
     "output_type": "display_data"
    }
   ],
   "source": [
    "# Code to implement the data simulation demonstrated in video\n",
    "array = df['Response'].to_numpy()\n",
    "N=50000\n",
    "result = []\n",
    "k=0\n",
    "for iter in range(N):\n",
    "    arr1=array\n",
    "    arr2=np.random.permutation(arr1)\n",
    "    mean = np.mean(arr2[:25]) - np.mean(arr2[25:])\n",
    "    result.append(mean)\n",
    "    if 4.4 <= mean:\n",
    "        k=k+1\n",
    "        print(k, mean)\n",
    "plt.figure()\n",
    "plt.hist(result, normed=True, bins=30)\n",
    "# Show figure as desired.\n",
    "plt.show()"
   ]
  },
  {
   "cell_type": "code",
   "execution_count": 12,
   "metadata": {},
   "outputs": [
    {
     "name": "stdout",
     "output_type": "stream",
     "text": [
      "P(mean>=4.4)= 0.00052\n"
     ]
    }
   ],
   "source": [
    "# Calculate the probability of obtaining the experiment outcome\n",
    "print('P(mean>=4.4)=',k/N)"
   ]
  },
  {
   "cell_type": "markdown",
   "metadata": {},
   "source": [
    "**Submitted by: Manjeet Kaur**"
   ]
  }
 ],
 "metadata": {
  "kernelspec": {
   "display_name": "Python 3",
   "language": "python",
   "name": "python3"
  },
  "language_info": {
   "codemirror_mode": {
    "name": "ipython",
    "version": 3
   },
   "file_extension": ".py",
   "mimetype": "text/x-python",
   "name": "python",
   "nbconvert_exporter": "python",
   "pygments_lexer": "ipython3",
   "version": "3.6.8"
  }
 },
 "nbformat": 4,
 "nbformat_minor": 2
}
