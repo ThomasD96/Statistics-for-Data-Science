{
 "cells": [
  {
   "cell_type": "markdown",
   "metadata": {},
   "source": [
    "# Assignment 2"
   ]
  },
  {
   "cell_type": "markdown",
   "metadata": {},
   "source": [
    "# Part 1. Complete OpenIntro Statistics 3rd Edition Exercises 2.30, 2.34 and 2.40. (Show how you found solutions)."
   ]
  },
  {
   "cell_type": "markdown",
   "metadata": {},
   "source": [
    "**Ex. 2.30: Books on a bookshelf.**\n",
    "The table below shows the distribution of books on a bookcase based on whether they are nonfiction or fiction and hardcover or paperback.\n",
    "\n",
    "|Type      |Hardcover |Paperback | Total Format   |\n",
    "|----------|----------|--------- |--------------- |\n",
    "|Fiction   | 13       |59        |72              |\n",
    "|Nonfiction| 15       |8         |23              |\n",
    "|Total Type| 28       |67        |95              |\n",
    " \n",
    "(a) Find the probability of drawing a hardcover book first then a paperback fiction book second when drawing without replacement. \n",
    "\n",
    "(b) Determine the probability of drawing a fiction book first and then a hardcover book second, when drawing without replacement. \n",
    "\n",
    "(c) Calculate the probability of the scenario in part (b), except this time complete the calculations under the scenario where the first book is placed back on the bookcase before randomly drawing the second book.\n",
    "\n",
    "(d) The final answers to parts (b) and (c) are very similar. Explain why this is the case.\n"
   ]
  },
  {
   "cell_type": "markdown",
   "metadata": {},
   "source": [
    "**Solution:2.30**\n",
    "\n",
    "a) The probability of drawing the hardcover book first, P(hardcover)= 28/95\n",
    "\n",
    "The probability of drawing paperback fiction without replacement, P(paperback fiction)= 59/94\n",
    "\n",
    "P(hardcover and then paperback fiction)= 28/95 * 59/94= 0.18499 = 18.5%\n",
    "\n",
    "b) The probability of drawing a fiction book first, P(fiction)= 72/95\n",
    "\n",
    "The probability of drawing hardcover book without replacement, P(hardcover)= 28/94\n",
    "\n",
    "P(fiction book first and then hardcover without replacement)= 72/95 * 28/94 = .22575 = 22.58%\n",
    "\n",
    "c) P(fiction book first and then hardcover with replacement)= 72/95 * 28/95 = .22337 = 22.34%\n",
    "\n",
    "d) The final answer is similar and only differs by only one book not being returned. Since the number of books is large, \n",
    "this is not a material amount. If more books were selected, then the difference would be larger.\n",
    "(The replacement makes very less difference if the sample size provided is large)."
   ]
  },
  {
   "cell_type": "code",
   "execution_count": 28,
   "metadata": {},
   "outputs": [
    {
     "data": {
      "text/plain": [
       "0.2243001119820829"
      ]
     },
     "execution_count": 28,
     "metadata": {},
     "output_type": "execute_result"
    }
   ],
   "source": [
    "# b)\n",
    "P_A = 13/95*27/94\n",
    "P_B = 59/95*28/94\n",
    "\n",
    "# in this case the addition rule is applied since it might be case A or B:\n",
    "P_A + P_B"
   ]
  },
  {
   "cell_type": "markdown",
   "metadata": {},
   "source": [
    "**Ex. 2.34: Ace of clubs wins.**\n",
    "\n",
    "Consider the following card game with a well-shuffled deck of cards. If you draw a red card, you win nothing. If you get a spade, you win dollar 5. For any club, you win dollar 10 plus an extra dollar 20 for the ace of clubs.\n",
    "\n",
    "(a) Create a probability model for the amount you win at this game. Also, find the expected winnings for a single game and the standard deviation of the winnings.\n",
    "\n",
    "(b) What is the maximum amount you would be willing to pay to play this game? Explain your reasoning."
   ]
  },
  {
   "cell_type": "markdown",
   "metadata": {},
   "source": [
    "**Solution 2.34:** \n",
    "a) There are four draw conditions given so the probability model will be like:\n",
    "\n",
    "P(probability of drawing a red card, win amount=0) = 26/52 = .5\n",
    "\n",
    "P(probability of drawing a spade, win amount=5) = 13/52 = .25\n",
    "\n",
    "P(proability of drawing a club, but not the ace, win amount=10) = 12/52 = .2307\n",
    "\n",
    "P(probability of drawing the ace of clubs, win amount=20) = 1/52 = .0192\n",
    "\n",
    "The expected winning value= $\\sum_{X} * P(X=x) $ = 0 * (.50) + 5 * (.25) + 10 * (.2307) + 30 * (.0192) = 4.133\n",
    "\n",
    "The standard of the winnings can be calulated as follows:\n",
    "\n",
    "$ Variance= σ^2 = \\sum_{X}*(x−μ)^2* P(X = x) $ \n",
    "                = (0-3.941)^2 * (.50) + (5-3.941)^2 * 0.25 + (10-3.941)^2 * 0.2307 + (30-3.941)^2 * .0192\n",
    "                = 29.539\n",
    "\n",
    "$ Standard Deviation = \\sqrt{\\sigma^2} $\n",
    "                     = $ \\sqrt{29.539} $\n",
    "                     = 5.4349\n",
    "                     \n",
    "b) I would be willing to pay at most $4.13 because it has to be less than the expected winnings for a single game."
   ]
  },
  {
   "cell_type": "code",
   "execution_count": 29,
   "metadata": {},
   "outputs": [
    {
     "name": "stdout",
     "output_type": "stream",
     "text": [
      "The expected winning for a single game: 4.134615384615385\n",
      "The variance is: 29.539571153846154\n",
      "The standard deviation is 5.435031844786758\n"
     ]
    }
   ],
   "source": [
    "import math\n",
    "\n",
    "Exp_Win= 0 * 0.5 + 5 * 0.25 + 10 *(12/52) +30*1/52 \n",
    "print('The expected winning for a single game:', Exp_Win)\n",
    "\n",
    "Var_X = (0-4.135)**2 * 0.5 + (5-4.135)**2 * 0.25 + (10-4.135)**2 *(12/52) + (30-4.135)**2*1/52\n",
    "print('The variance is:', Var_X)\n",
    "\n",
    "std_dev = math.sqrt(Var_X)\n",
    "\n",
    "print(\"The standard deviation is\", std_dev)"
   ]
  },
  {
   "cell_type": "markdown",
   "metadata": {},
   "source": [
    "**Ex. 2.40: European roulette.**\n",
    "\n",
    "The game of European roulette involves spinning a wheel with 37 slots: 18 red, 18 black, and 1 green. A ball is spun onto the wheel and will eventually land in a slot, where each slot has an equal chance of capturing the ball. Gamblers can place bets on red or black. If the ball lands on their colour, they double their money. If it lands on another colour, they lose their money.\n",
    "\n",
    "(a) Suppose you play roulette and bet dollar 3 on a single round. What is the expected value and standard deviation of your total winnings?\n",
    "\n",
    "(b) Suppose you bet dollar 1 in three different rounds. What is the expected value and standard deviation of your total winnings?\n",
    "\n",
    "(c) How do your answers to parts (a) and (b) compare? What does this say about the riskiness of the two games?"
   ]
  },
  {
   "cell_type": "code",
   "execution_count": 30,
   "metadata": {},
   "outputs": [
    {
     "name": "stdout",
     "output_type": "stream",
     "text": [
      "Expected win for $3 game: 1.4594594594594597\n",
      "Standard deviation for $3 game: 1.4994521522065172\n"
     ]
    }
   ],
   "source": [
    "# a. if the is $3, the chance to win is 18/37, to loose 19/37\n",
    "# one calculate the win or return\n",
    "# if I bet 3 dollars, chance to win is (18/37), to loose 19/37.\n",
    "# Expected value of winning: 0 * (19/37) + 6 * (18/37) = $2.92\n",
    "# Standard deviation : SQRT((0-2.92)2*(19/37)+(6-12.92)2 * (18/37))=3.00.\n",
    "\n",
    "Expected_win = 0 * (19/37) + 3 * (18/37)\n",
    "\n",
    "print('Expected win for $3 game:', Expected_win)\n",
    "\n",
    "# Standard deviation:\n",
    "\n",
    "Std_dev = math.sqrt((0 - 1.46)**2*(19/37)+(3 - 1.46)**2 * (18/37))\n",
    "\n",
    "print('Standard deviation for $3 game:', Std_dev)"
   ]
  },
  {
   "cell_type": "code",
   "execution_count": 31,
   "metadata": {},
   "outputs": [
    {
     "name": "stdout",
     "output_type": "stream",
     "text": [
      "The expected winning in single 1-dollar round: 0.4864864864864865\n",
      "the variance for a single 1-dollar round: 0.24981762162162163\n",
      "Expected win in three $1 rounds: 1.4594594594594597\n",
      "Standard deviation for three $1 rounds: 0.8657094575346078\n"
     ]
    }
   ],
   "source": [
    "# b. For three 1-dollar rounds:\n",
    "# The expected winning in single 1-dollar round:\n",
    "\n",
    "Exp_win_1_round = (19/37) * 0 + (18/37) * 1\n",
    "print('The expected winning in single 1-dollar round:', Exp_win_1_round)\n",
    "\n",
    "# the variance for a single 1-dollar round:\n",
    "Var_1_turn =((19/37) * (0 - 0.486)**2 + (18/37) *(1 - 0.486)**2)\n",
    "\n",
    "\n",
    "print('the variance for a single 1-dollar round:', Var_1_turn)\n",
    "\n",
    "\n",
    "# For 3 such rounds:\n",
    "\n",
    "Exp_win_3_rounds = 3* Exp_win_1_round\n",
    "\n",
    "Var_3_rounds = 3* Var_1_turn\n",
    "\n",
    "# and the standard deviation for 3 rounds\n",
    "\n",
    "Std_dev_3_rounds = math.sqrt(Var_3_rounds)\n",
    "\n",
    "print('Expected win in three $1 rounds:', Exp_win_3_rounds)\n",
    "print('Standard deviation for three $1 rounds:', Std_dev_3_rounds)"
   ]
  },
  {
   "cell_type": "markdown",
   "metadata": {},
   "source": [
    "c) The expected value for both strategies is equal while the standard deviation of first strategy is larger so the risk is higher in first one."
   ]
  },
  {
   "cell_type": "markdown",
   "metadata": {},
   "source": [
    "# Part 2. Monty Hall problem:\n",
    "**Given below is the description of the problem.\n",
    "Suppose you're on a game show and you're given the choice of three doors.\n",
    "Behind one door is a car; behind the others, goats. The car and the goats were placed randomly behind the doors before the show.\n",
    "The rules are:\n",
    "After you have chosen a door, the door remains closed for the time being. The game show host, Monty Hall, who knows what is behind the doors, now has to open one of the two remaining doors, and the door he opens must have a goat behind it. If both remaining doors have goats behind them, he chooses one randomly.\n",
    "After Monty opens a door with a goat, he will ask you to decide whether you want to stay with your first choice or to switch to the last remaining door. Imagine that you chose Door 1 and the host opens Door 3, which has a goat. He then asks you \"Do you want to switch to Door Number 2?\" Is it to your advantage to change your choice?**\n",
    "\n",
    "NOTES:\n",
    "1.\tThe player may initially choose any of the three doors (not just Door 1).\n",
    "2.\tThe host opens a different door revealing a goat (not necessarily Door 3).\n",
    "3.\tThe host gives the player a second choice between the two remaining unopened doors.\n",
    "\n",
    "•\tWrite Python code to solve the Monty Hall problem. Simulate at least a thousand games using three doors for each strategy and show the results in such a way as to make it easy to compare the effects of each strategy."
   ]
  },
  {
   "cell_type": "markdown",
   "metadata": {},
   "source": [
    "## First Approach"
   ]
  },
  {
   "cell_type": "code",
   "execution_count": 32,
   "metadata": {},
   "outputs": [
    {
     "name": "stdout",
     "output_type": "stream",
     "text": [
      "Monty Hall Problem with 3 doors\n",
      "Proportion of wins without switching: 0.3380\n",
      "Proportion of wins with switching: 0.6712\n"
     ]
    }
   ],
   "source": [
    "# Place the car behind door number 1, leaving the contestant to initially choose any door at random.\n",
    "\n",
    "def run_trial(switch_doors, ndoors=3):\n",
    "    \n",
    "    # Pick a random door out of the ndoors available\n",
    "    chosen_door = random.randint(1, ndoors)\n",
    "    if switch_doors:\n",
    "        # Reveal a goat\n",
    "        revealed_door = 3 if chosen_door==2 else 2\n",
    "        # Make the switch by choosing any other door than the initially-\n",
    "        # selected one and the one just opened to reveal a goat. \n",
    "        available_doors = [dnum for dnum in range(1,ndoors+1)\n",
    "                                if dnum not in (chosen_door, revealed_door)]\n",
    "        chosen_door = random.choice(available_doors)\n",
    "\n",
    "    # You win if you picked door number 1\n",
    "    return chosen_door == 1\n",
    "\n",
    "def run_trials(ntrials, switch_doors, ndoors=3):\n",
    "\n",
    "    nwins = 0\n",
    "    for i in range(ntrials):\n",
    "        if run_trial(switch_doors, ndoors):\n",
    "            nwins += 1\n",
    "    return nwins\n",
    "\n",
    "ndoors, ntrials = 3, 10000\n",
    "nwins_without_switch = run_trials(ntrials, False, ndoors)\n",
    "nwins_with_switch = run_trials(ntrials, True, ndoors)\n",
    "\n",
    "print('Monty Hall Problem with {} doors'.format(ndoors))\n",
    "print('Proportion of wins without switching: {:.4f}'\n",
    "            .format(nwins_without_switch/ntrials))\n",
    "print('Proportion of wins with switching: {:.4f}'\n",
    "            .format(nwins_with_switch/ntrials))"
   ]
  },
  {
   "cell_type": "markdown",
   "metadata": {},
   "source": [
    "## Second Approach"
   ]
  },
  {
   "cell_type": "code",
   "execution_count": 33,
   "metadata": {},
   "outputs": [
    {
     "name": "stdout",
     "output_type": "stream",
     "text": [
      "Proportion of wins without switching: 0.3383\n",
      "Proportion of wins with switching: 0.6610\n"
     ]
    }
   ],
   "source": [
    "from random import randint\n",
    "\n",
    "import matplotlib.pyplot as plt\n",
    "import random\n",
    "\n",
    "nb_simulations = 10000\n",
    "\n",
    "#----------------------------------------------------------------------------------------#\n",
    "# simulation 1: player keeps his first choice \n",
    "\n",
    "win_s1_counts = 0\n",
    "\n",
    "for i in range(nb_simulations):\n",
    "    winning_door = randint(1,3)\n",
    "    player_first_door = randint(1,3)\n",
    "    l = [1,2,3]\n",
    "    l.remove(winning_door)\n",
    "    if player_first_door != winning_door : l.remove(player_first_door)\n",
    "    game_host_opened = random.choice(l)\n",
    "    if player_first_door == winning_door :\n",
    "        win_s1_counts = win_s1_counts + 1\n",
    "\n",
    "#----------------------------------------------------------------------------------------#\n",
    "# simulation 2: player changes his first choice \n",
    "\n",
    "win_s2_counts = 0\n",
    "for i in range(nb_simulations): \n",
    "    winning_door = randint(1,3)\n",
    "    player_first_door = randint(1,3)\n",
    "    door_list = [1,2,3]\n",
    "    door_list.remove(winning_door)\n",
    "    if player_first_door != winning_door : door_list.remove(player_first_door)\n",
    "    game_host_opened = random.choice(door_list)\n",
    "    door_list = [1,2,3]\n",
    "    door_list.remove(game_host_opened)\n",
    "    door_list.remove(player_first_door)\n",
    "    player_new_door = door_list[0]\n",
    "    if player_new_door == winning_door :\n",
    "        win_s2_counts = win_s2_counts + 1\n",
    "\n",
    "print('Proportion of wins without switching: {:.4f}'.format(win_s1_counts / nb_simulations ))\n",
    "print('Proportion of wins with switching: {:.4f}'.format(win_s2_counts / nb_simulations ))"
   ]
  },
  {
   "cell_type": "markdown",
   "metadata": {},
   "source": [
    "## Third Approach "
   ]
  },
  {
   "cell_type": "code",
   "execution_count": 34,
   "metadata": {},
   "outputs": [],
   "source": [
    "import numpy as np\n",
    "\n",
    "a = np.array([0, 1, 2])\n",
    "N_games = 1000\n",
    "\n",
    "\n",
    "# To see if it is to our advantage, we want to calculate \n",
    "# the probability of winning the car \n",
    "# if the contestant chooses to switch doors vs. if they do not\n",
    "\n",
    "# This function is to simulate N games (say 1,000 or 10,000) to find odds winning the car\n",
    "\n",
    "def games(N):\n",
    "    N_wins_first_choice = 0\n",
    "    N_wins_second_choice = 0\n",
    "    \n",
    "    for i in range(1, N+1):\n",
    "        \n",
    "        # Randomly the door with the car behind it\n",
    "        prize = np.random.choice(a)\n",
    "        \n",
    "         # Randomly choose the door for the contestant, and remove it from \n",
    "        # the list of doors to open\n",
    "        player = np.random.choice(a)\n",
    "        if prize == player:\n",
    "            \n",
    "            # If contestant's first guess was correct, \n",
    "            # she would win if stays with the first choice\n",
    "            N_wins_first_choice +=1\n",
    "            \n",
    "            # Monty picks randomly any other door, \n",
    "            # in this case other two doors without prize\n",
    "            host = np.random.choice(np.delete(a, prize))\n",
    "        else:\n",
    "            \n",
    "            # otherwise Monty will open the other  door (without price)\n",
    "            host = np.delete(a, [prize, player])[0]\n",
    "            \n",
    "        # Contestant may choose to change door, and pick unopened door.\n",
    "        second_choice = np.delete(a, [player, host])[0]\n",
    "        \n",
    "        # evaluate if the \"other door\" is the winner\n",
    "        if prize == second_choice:\n",
    "            N_wins_second_choice += 1\n",
    "        \n",
    "    return [N_wins_first_choice, N_wins_second_choice]\n",
    "\n",
    "# Function above would give us winning odds, \n",
    "# or how many times contestant wins switching door in N_games.\n",
    "# Each run of that function would return somewhat different result.\n",
    "# To see the variance of results we may choose to run N_games multiple times.\n",
    "\n",
    "def runs(N):\n",
    "    #trials = np.empty([])\n",
    "    trials = games((N_games))\n",
    "    for i in range(N-1):\n",
    "        trials = np.vstack([trials, games(N_games)])\n",
    "    return trials"
   ]
  },
  {
   "cell_type": "code",
   "execution_count": 35,
   "metadata": {},
   "outputs": [
    {
     "data": {
      "text/plain": [
       "<matplotlib.axes._subplots.AxesSubplot at 0x2bc7cf9c390>"
      ]
     },
     "execution_count": 35,
     "metadata": {},
     "output_type": "execute_result"
    },
    {
     "data": {
      "image/png": "[encoded data removed]",
      "text/plain": [
       "<Figure size 432x288 with 1 Axes>"
      ]
     },
     "metadata": {
      "needs_background": "light"
     },
     "output_type": "display_data"
    }
   ],
   "source": [
    "from pandas import DataFrame\n",
    "import matplotlib.pyplot as plt\n",
    "\n",
    "plt.figure()\n",
    "DT = DataFrame(runs(30), columns=[\"First Choice\", \"Alternate Choice\"])\n",
    "#.plot.hist(bins=100)\n",
    "DataFrame(runs(30), columns=[\"First Choice\", \"Alternate Choice\"]).boxplot()\n"
   ]
  },
  {
   "cell_type": "markdown",
   "metadata": {},
   "source": [
    "**We can see from the results that the best strategy for winning the car is to switch the doors and i.e. nearly 67%.**\n",
    "\n",
    "__NOTE:__ In this case to obtain intervals 30 runs of 10,000 games were simulated. It shows that contestant wins on average 1/3 of the time staying with their original door choice and with probability 2/3 switching from their original door.  \n",
    "\n",
    "If Monty picked door to open randomly there would not be any difference. But he picks door specifically without prize, this gives us additional information which can be used in counting odds. Later in course we shall discuss Bayesian approach to this problem."
   ]
  },
  {
   "cell_type": "markdown",
   "metadata": {},
   "source": [
    "**Submitted By: Manjeet Kaur**"
   ]
  }
 ],
 "metadata": {
  "kernelspec": {
   "display_name": "Python 3",
   "language": "python",
   "name": "python3"
  },
  "language_info": {
   "codemirror_mode": {
    "name": "ipython",
    "version": 3
   },
   "file_extension": ".py",
   "mimetype": "text/x-python",
   "name": "python",
   "nbconvert_exporter": "python",
   "pygments_lexer": "ipython3",
   "version": "3.6.8"
  }
 },
 "nbformat": 4,
 "nbformat_minor": 2
}
